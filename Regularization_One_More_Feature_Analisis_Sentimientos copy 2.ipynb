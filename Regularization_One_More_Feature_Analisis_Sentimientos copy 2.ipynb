{
 "cells": [
  {
   "cell_type": "code",
   "execution_count": 1,
   "metadata": {},
   "outputs": [],
   "source": [
    "\n",
    "# Mismas librerias\n",
    "import tensorflow as tf\n",
    "from tensorflow.keras.preprocessing import sequence\n",
    "from tensorflow.keras.models import Sequential\n",
    "from tensorflow.keras.layers import Dense, Embedding, Concatenate, LSTM, Dropout\n",
    "from tensorflow.keras.datasets import imdb\n",
    "from tensorflow.keras import Input, Model\n",
    "# Para cambiar la particion de datos\n",
    "from sklearn.model_selection import train_test_split\n",
    "import numpy as np\n",
    "\n",
    "\n",
    "\n",
    "# Para el análisis de palabras individuales\n",
    "from vaderSentiment.vaderSentiment import SentimentIntensityAnalyzer\n",
    "import pandas as pd\n",
    "\n",
    "\n",
    "import matplotlib.pyplot as plt\n",
    "\n",
    "# Regularization and Early stopping \n",
    "from tensorflow.keras.callbacks import EarlyStopping\n",
    "from tensorflow.keras import regularizers\n",
    "\n"
   ]
  },
  {
   "cell_type": "code",
   "execution_count": 2,
   "metadata": {},
   "outputs": [],
   "source": [
    "(X_train, y_train), (X_test, y_test) = imdb.load_data(num_words=50000)"
   ]
  },
  {
   "cell_type": "code",
   "execution_count": 3,
   "metadata": {},
   "outputs": [
    {
     "name": "stdout",
     "output_type": "stream",
     "text": [
      "<class 'numpy.ndarray'>\n"
     ]
    }
   ],
   "source": [
    "word_index = imdb.get_word_index()\n",
    "reverse_word_index = {value: key for key, value in word_index.items()}\n",
    "\n",
    "\n",
    "# Analizes if a word is positive or negative (from -1 to 1)\n",
    "analyzer = SentimentIntensityAnalyzer()\n",
    "\n",
    "print(type(X_train))\n"
   ]
  },
  {
   "cell_type": "code",
   "execution_count": 4,
   "metadata": {},
   "outputs": [
    {
     "name": "stdout",
     "output_type": "stream",
     "text": [
      "<class 'list'>\n"
     ]
    }
   ],
   "source": [
    "X = np.concatenate([X_train, X_test])\n",
    "y = np.concatenate([y_train, y_test])\n",
    "\n",
    "print(type(X[0]))"
   ]
  },
  {
   "cell_type": "code",
   "execution_count": 5,
   "metadata": {},
   "outputs": [],
   "source": [
    "\n",
    "def estimate_sentiment_per_word(reverse_word_index: dict, analyzer: SentimentIntensityAnalyzer)-> dict:\n",
    "\n",
    "    token_sentiment = {token: analyzer.polarity_scores(word).get('compound') for token, word in reverse_word_index.items()}\n",
    "\n",
    "    return token_sentiment\n",
    "\n",
    "def count_good_and_bad_words(tokenized_word: list, token_sentiment: dict, min_score: int = 0.2)-> tuple:\n",
    "    if min_score>1 or min_score<-1:\n",
    "        min_score = 0.2\n",
    "\n",
    "    good_words_count = 0\n",
    "    total_words = len(tokenized_word)\n",
    "\n",
    "    for token_word in tokenized_word:\n",
    "        sentiment = token_sentiment.get(token_word)\n",
    "        if sentiment>min_score:\n",
    "            good_words_count += 1\n",
    "\n",
    "    return good_words_count, total_words-good_words_count\n",
    "\n",
    "\n",
    "def average_score_sentiment(tokenized_word: list, token_sentiment: dict):\n",
    "    average = 0\n",
    "    for token_word in tokenized_word:\n",
    "        average += token_sentiment.get(token_word)\n",
    "    \n",
    "    return average/(len(tokenized_word))\n",
    "\n",
    "def extend_word_features(X: np.ndarray, token_sentiment: dict) -> np.ndarray:\n",
    "    extended_samples = []\n",
    "    \n",
    "    for sample in X:\n",
    "        tokenized_word = sample\n",
    "        \n",
    "        good_words_count, bad_words_count = count_good_and_bad_words(tokenized_word, token_sentiment)\n",
    "        \n",
    "        avg_score = average_score_sentiment(tokenized_word, token_sentiment)\n",
    "\n",
    "        critic_length = len(sample)\n",
    "        \n",
    "        # Extending the sample with the new features\n",
    "        extended_sample = [tokenized_word, [good_words_count, bad_words_count, avg_score, critic_length]]\n",
    "        \n",
    "        extended_samples.append(extended_sample)\n",
    "    \n",
    "    return np.array(extended_samples, dtype=object)\n",
    "\n",
    "\n"
   ]
  },
  {
   "cell_type": "code",
   "execution_count": 6,
   "metadata": {},
   "outputs": [],
   "source": [
    "token_sentiment = estimate_sentiment_per_word(reverse_word_index, analyzer)"
   ]
  },
  {
   "cell_type": "code",
   "execution_count": 7,
   "metadata": {},
   "outputs": [],
   "source": [
    "X_train, X_test, y_train, y_test = train_test_split(X, y, test_size=0.2, random_state=42)"
   ]
  },
  {
   "cell_type": "code",
   "execution_count": 8,
   "metadata": {},
   "outputs": [],
   "source": [
    "\n",
    "X_train, X_test, y_train, y_test = train_test_split(X, y, test_size=0.2, random_state=42)\n",
    "X_train = extend_word_features(X_train, token_sentiment)\n",
    "X_test = extend_word_features(X_test, token_sentiment)\n",
    "\n",
    "# For padding\n",
    "X_train_sequences = sequence.pad_sequences(np.array([sample[0] for sample in X_train], dtype=object), maxlen=80)\n",
    "X_test_sequences = sequence.pad_sequences(np.array([sample[0] for sample in X_test], dtype=object), maxlen=80)\n",
    "\n",
    "# For feeding to the model\n",
    "X_train_new_features = np.array([sample[1] for sample in X_train])\n",
    "X_test_new_features = np.array([sample[1] for sample in X_test])\n",
    "\n",
    "\n"
   ]
  },
  {
   "cell_type": "code",
   "execution_count": 9,
   "metadata": {},
   "outputs": [],
   "source": [
    "sequence_input = Input(shape=(80,), dtype='int32', name='sequence_input')\n",
    "scalar_input = Input(shape=(4,), dtype='float32', name='scalar_input')\n",
    "\n",
    "embedded_sequences = Embedding(input_dim=50000, output_dim=128)(sequence_input)\n",
    "lstm_out = LSTM(128, dropout=0.2, recurrent_dropout=0.2)(embedded_sequences)\n",
    "\n",
    "# Modified dense_out layer with L1L2 regularization and Dropout\n",
    "dense_out = Dense(32, activation='relu', \n",
    "                 kernel_regularizer=regularizers.l1_l2(l1=1e-5, l2=1e-4))(scalar_input)\n",
    "dense_out = Dropout(0.5)(dense_out) # Apply Dropout after the activation\n",
    "\n",
    "concatenated = Concatenate()([lstm_out, dense_out])\n",
    "output = Dense(1, activation='sigmoid')(concatenated)\n",
    "\n",
    "# Early stopping\n",
    "early_stopping = EarlyStopping(monitor='val_loss', patience=3, restore_best_weights=True)\n",
    "\n",
    "# Model definition\n",
    "modelo = Model(inputs=[sequence_input, scalar_input], outputs=output)"
   ]
  },
  {
   "cell_type": "code",
   "execution_count": 10,
   "metadata": {},
   "outputs": [],
   "source": [
    "modelo.compile(loss='binary_crossentropy',\n",
    "              optimizer='adam',\n",
    "              metrics=['accuracy'])"
   ]
  },
  {
   "cell_type": "code",
   "execution_count": 11,
   "metadata": {},
   "outputs": [
    {
     "name": "stdout",
     "output_type": "stream",
     "text": [
      "Epoch 1/10\n"
     ]
    },
    {
     "name": "stdout",
     "output_type": "stream",
     "text": [
      "1000/1000 [==============================] - 185s 182ms/step - loss: 1.8454 - accuracy: 0.6816 - val_loss: 0.3994 - val_accuracy: 0.8230\n",
      "Epoch 2/10\n",
      "1000/1000 [==============================] - 179s 179ms/step - loss: 0.3010 - accuracy: 0.8754 - val_loss: 0.3601 - val_accuracy: 0.8484\n",
      "Epoch 3/10\n",
      "1000/1000 [==============================] - 186s 186ms/step - loss: 0.1875 - accuracy: 0.9293 - val_loss: 0.3788 - val_accuracy: 0.8499\n",
      "Epoch 4/10\n",
      "1000/1000 [==============================] - 181s 181ms/step - loss: 0.1219 - accuracy: 0.9561 - val_loss: 0.5591 - val_accuracy: 0.8353\n",
      "Epoch 5/10\n",
      " 854/1000 [========================>.....] - ETA: 26s - loss: 0.0673 - accuracy: 0.9778"
     ]
    }
   ],
   "source": [
    "history = modelo.fit([X_train_sequences, X_train_new_features], y_train, validation_split=0.2, epochs=10, batch_size=32, callbacks =[early_stopping])\n"
   ]
  },
  {
   "cell_type": "code",
   "execution_count": null,
   "metadata": {},
   "outputs": [
    {
     "data": {
      "image/png": "[encoded data removed]",
      "text/plain": [
       "<Figure size 1000x600 with 1 Axes>"
      ]
     },
     "metadata": {},
     "output_type": "display_data"
    }
   ],
   "source": [
    "plt.figure(figsize=(10, 6))\n",
    "plt.plot(history.history['accuracy'], label='Training Accuracy')\n",
    "plt.plot(history.history['val_accuracy'], label='Validation Accuracy')\n",
    "plt.title('Training and Validation Accuracy over Epochs')\n",
    "plt.xlabel('Epochs')\n",
    "plt.ylabel('Accuracy')\n",
    "plt.legend()\n",
    "plt.show()"
   ]
  },
  {
   "cell_type": "code",
   "execution_count": null,
   "metadata": {},
   "outputs": [
    {
     "name": "stdout",
     "output_type": "stream",
     "text": [
      "313/313 - 6s - loss: 0.3455 - accuracy: 0.8483 - 6s/epoch - 19ms/step\n",
      "Pérdida de la Prueba: 0.3455069363117218\n",
      "Exactitud de la Prueba (Test accuracy): 0.8482999801635742\n"
     ]
    }
   ],
   "source": [
    "perdida, exactitud = modelo.evaluate([X_test_sequences, X_test_new_features], y_test,\n",
    "                                     batch_size=32, verbose=2)\n",
    "print('Pérdida de la Prueba:', perdida)\n",
    "print('Exactitud de la Prueba (Test accuracy):', exactitud)\n"
   ]
  }
 ],
 "metadata": {
  "kernelspec": {
   "display_name": "Python 3",
   "language": "python",
   "name": "python3"
  },
  "language_info": {
   "codemirror_mode": {
    "name": "ipython",
    "version": 3
   },
   "file_extension": ".py",
   "mimetype": "text/x-python",
   "name": "python",
   "nbconvert_exporter": "python",
   "pygments_lexer": "ipython3",
   "version": "3.11.3"
  },
  "orig_nbformat": 4
 },
 "nbformat": 4,
 "nbformat_minor": 2
}
