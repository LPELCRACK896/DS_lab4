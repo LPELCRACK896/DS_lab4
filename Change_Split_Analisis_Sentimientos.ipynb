{
 "cells": [
  {
   "cell_type": "code",
   "execution_count": 57,
   "metadata": {},
   "outputs": [],
   "source": [
    "\n",
    "# Mismas librerias\n",
    "import tensorflow as tf\n",
    "from tensorflow.keras.preprocessing import sequence\n",
    "from tensorflow.keras.models import Sequential\n",
    "from tensorflow.keras.layers import Dense, Embedding\n",
    "from tensorflow.keras.layers import LSTM\n",
    "from tensorflow.keras.datasets import imdb\n",
    "# Nuevas para esten nuevo enfoque\n",
    "from sklearn.model_selection import train_test_split\n",
    "import numpy as np\n"
   ]
  },
  {
   "cell_type": "code",
   "execution_count": 58,
   "metadata": {},
   "outputs": [],
   "source": [
    "(X_train, y_train), (X_test, y_test) = imdb.load_data(num_words=50000)"
   ]
  },
  {
   "cell_type": "code",
   "execution_count": 59,
   "metadata": {},
   "outputs": [],
   "source": [
    "X = np.concatenate([X_train, X_test])\n",
    "y = np.concatenate([y_train, y_test])"
   ]
  },
  {
   "cell_type": "code",
   "execution_count": 60,
   "metadata": {},
   "outputs": [],
   "source": [
    "X_train, X_test, y_train, y_test = train_test_split(X, y, test_size=0.2, random_state=42)\n"
   ]
  },
  {
   "cell_type": "code",
   "execution_count": 61,
   "metadata": {},
   "outputs": [
    {
     "data": {
      "text/plain": [
       "10000"
      ]
     },
     "execution_count": 61,
     "metadata": {},
     "output_type": "execute_result"
    }
   ],
   "source": [
    "len(X_test)"
   ]
  },
  {
   "cell_type": "code",
   "execution_count": 62,
   "metadata": {},
   "outputs": [
    {
     "data": {
      "text/plain": [
       "40000"
      ]
     },
     "execution_count": 62,
     "metadata": {},
     "output_type": "execute_result"
    }
   ],
   "source": [
    "len(X_train)"
   ]
  },
  {
   "cell_type": "code",
   "execution_count": 63,
   "metadata": {},
   "outputs": [],
   "source": [
    "X_train = sequence.pad_sequences(X_train, maxlen = 80)\n",
    "X_test = sequence.pad_sequences(X_test, maxlen = 80)"
   ]
  },
  {
   "cell_type": "code",
   "execution_count": 64,
   "metadata": {},
   "outputs": [],
   "source": [
    "modelo = Sequential()\n",
    "modelo.add(Embedding(50000, 128))\n",
    "modelo.add(LSTM(128, dropout=0.2, recurrent_dropout=0.2))\n",
    "modelo.add(Dense(1, activation='sigmoid'))"
   ]
  },
  {
   "cell_type": "code",
   "execution_count": 65,
   "metadata": {},
   "outputs": [],
   "source": [
    "modelo.compile(loss='binary_crossentropy',\n",
    "              optimizer='adam',\n",
    "              metrics=['accuracy'])"
   ]
  },
  {
   "cell_type": "code",
   "execution_count": 66,
   "metadata": {},
   "outputs": [
    {
     "name": "stdout",
     "output_type": "stream",
     "text": [
      "Epoch 1/15\n",
      "1250/1250 - 225s - loss: 0.4035 - accuracy: 0.8155 - val_loss: 0.3490 - val_accuracy: 0.8573 - 225s/epoch - 180ms/step\n",
      "Epoch 2/15\n",
      "1250/1250 - 229s - loss: 0.2286 - accuracy: 0.9100 - val_loss: 0.3438 - val_accuracy: 0.8556 - 229s/epoch - 183ms/step\n",
      "Epoch 3/15\n",
      "1250/1250 - 229s - loss: 0.1390 - accuracy: 0.9480 - val_loss: 0.4334 - val_accuracy: 0.8502 - 229s/epoch - 183ms/step\n",
      "Epoch 4/15\n",
      "1250/1250 - 228s - loss: 0.0874 - accuracy: 0.9689 - val_loss: 0.5081 - val_accuracy: 0.8485 - 228s/epoch - 183ms/step\n",
      "Epoch 5/15\n",
      "1250/1250 - 229s - loss: 0.0623 - accuracy: 0.9791 - val_loss: 0.6252 - val_accuracy: 0.8409 - 229s/epoch - 183ms/step\n",
      "Epoch 6/15\n",
      "1250/1250 - 223s - loss: 0.0385 - accuracy: 0.9876 - val_loss: 0.7282 - val_accuracy: 0.8439 - 223s/epoch - 178ms/step\n",
      "Epoch 7/15\n",
      "1250/1250 - 243s - loss: 0.0271 - accuracy: 0.9914 - val_loss: 0.6766 - val_accuracy: 0.8397 - 243s/epoch - 194ms/step\n",
      "Epoch 8/15\n",
      "1250/1250 - 225s - loss: 0.0219 - accuracy: 0.9933 - val_loss: 0.7305 - val_accuracy: 0.8415 - 225s/epoch - 180ms/step\n",
      "Epoch 9/15\n",
      "1250/1250 - 225s - loss: 0.0168 - accuracy: 0.9952 - val_loss: 0.8885 - val_accuracy: 0.8363 - 225s/epoch - 180ms/step\n",
      "Epoch 10/15\n",
      "1250/1250 - 230s - loss: 0.0148 - accuracy: 0.9951 - val_loss: 0.8852 - val_accuracy: 0.8352 - 230s/epoch - 184ms/step\n",
      "Epoch 11/15\n",
      "1250/1250 - 239s - loss: 0.0124 - accuracy: 0.9964 - val_loss: 0.7201 - val_accuracy: 0.8318 - 239s/epoch - 191ms/step\n",
      "Epoch 12/15\n",
      "1250/1250 - 237s - loss: 0.0094 - accuracy: 0.9969 - val_loss: 1.0085 - val_accuracy: 0.8372 - 237s/epoch - 190ms/step\n",
      "Epoch 13/15\n",
      "1250/1250 - 235s - loss: 0.0105 - accuracy: 0.9969 - val_loss: 0.9642 - val_accuracy: 0.8410 - 235s/epoch - 188ms/step\n",
      "Epoch 14/15\n",
      "1250/1250 - 237s - loss: 0.0056 - accuracy: 0.9983 - val_loss: 0.9620 - val_accuracy: 0.8369 - 237s/epoch - 189ms/step\n",
      "Epoch 15/15\n",
      "1250/1250 - 233s - loss: 0.0037 - accuracy: 0.9990 - val_loss: 1.0164 - val_accuracy: 0.8380 - 233s/epoch - 186ms/step\n"
     ]
    },
    {
     "data": {
      "text/plain": [
       "<keras.callbacks.History at 0x15a11ef3a50>"
      ]
     },
     "execution_count": 66,
     "metadata": {},
     "output_type": "execute_result"
    }
   ],
   "source": [
    "modelo.fit(X_train, y_train,\n",
    "          batch_size = 32,\n",
    "          epochs = 15,\n",
    "          verbose = 2,\n",
    "          validation_data = (X_test, y_test))"
   ]
  },
  {
   "cell_type": "code",
   "execution_count": 67,
   "metadata": {},
   "outputs": [
    {
     "name": "stdout",
     "output_type": "stream",
     "text": [
      "313/313 - 7s - loss: 1.0164 - accuracy: 0.8380 - 7s/epoch - 23ms/step\n",
      "Pérdida de la Prueba: 1.016446828842163\n",
      "Exactitud de la Prueba (Test accuracy): 0.8379999995231628\n"
     ]
    }
   ],
   "source": [
    "perdida, exactitud = modelo.evaluate(X_test, y_test,\n",
    "                            batch_size = 32,\n",
    "                            verbose = 2)\n",
    "print('Pérdida de la Prueba:', perdida)\n",
    "print('Exactitud de la Prueba (Test accuracy):', exactitud)"
   ]
  }
 ],
 "metadata": {
  "kernelspec": {
   "display_name": "Python 3",
   "language": "python",
   "name": "python3"
  },
  "language_info": {
   "codemirror_mode": {
    "name": "ipython",
    "version": 3
   },
   "file_extension": ".py",
   "mimetype": "text/x-python",
   "name": "python",
   "nbconvert_exporter": "python",
   "pygments_lexer": "ipython3",
   "version": "3.11.3"
  },
  "orig_nbformat": 4
 },
 "nbformat": 4,
 "nbformat_minor": 2
}
