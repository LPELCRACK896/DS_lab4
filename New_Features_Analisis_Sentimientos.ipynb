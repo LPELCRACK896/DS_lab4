{
 "cells": [
  {
   "cell_type": "code",
   "execution_count": 31,
   "metadata": {},
   "outputs": [],
   "source": [
    "\n",
    "# Mismas librerias\n",
    "import tensorflow as tf\n",
    "from tensorflow.keras.preprocessing import sequence\n",
    "from tensorflow.keras.models import Sequential\n",
    "from tensorflow.keras.layers import Dense, Embedding, Concatenate, LSTM\n",
    "from tensorflow.keras.datasets import imdb\n",
    "from tensorflow.keras import Input, Model\n",
    "# Para cambiar la particion de datos\n",
    "from sklearn.model_selection import train_test_split\n",
    "import numpy as np\n",
    "\n",
    "\n",
    "\n",
    "# Para el análisis de palabras individuales\n",
    "from vaderSentiment.vaderSentiment import SentimentIntensityAnalyzer\n",
    "import pandas as pd\n",
    "\n",
    "\n",
    "import matplotlib.pyplot as plt\n",
    "\n"
   ]
  },
  {
   "cell_type": "code",
   "execution_count": 2,
   "metadata": {},
   "outputs": [],
   "source": [
    "(X_train, y_train), (X_test, y_test) = imdb.load_data(num_words=50000)"
   ]
  },
  {
   "cell_type": "code",
   "execution_count": 15,
   "metadata": {},
   "outputs": [
    {
     "name": "stdout",
     "output_type": "stream",
     "text": [
      "<class 'numpy.ndarray'>\n"
     ]
    }
   ],
   "source": [
    "word_index = imdb.get_word_index()\n",
    "reverse_word_index = {value: key for key, value in word_index.items()}\n",
    "\n",
    "\n",
    "# Analizes if a word is positive or negative (from -1 to 1)\n",
    "analyzer = SentimentIntensityAnalyzer()\n",
    "\n",
    "print(type(X_train))\n"
   ]
  },
  {
   "cell_type": "code",
   "execution_count": 16,
   "metadata": {},
   "outputs": [
    {
     "name": "stdout",
     "output_type": "stream",
     "text": [
      "<class 'list'>\n"
     ]
    }
   ],
   "source": [
    "X = np.concatenate([X_train, X_test])\n",
    "y = np.concatenate([y_train, y_test])\n",
    "\n",
    "print(type(X[0]))"
   ]
  },
  {
   "cell_type": "code",
   "execution_count": 22,
   "metadata": {},
   "outputs": [],
   "source": [
    "\n",
    "def estimate_sentiment_per_word(reverse_word_index: dict, analyzer: SentimentIntensityAnalyzer)-> dict:\n",
    "\n",
    "    token_sentiment = {token: analyzer.polarity_scores(word).get('compound') for token, word in reverse_word_index.items()}\n",
    "\n",
    "    return token_sentiment\n",
    "\n",
    "def count_good_and_bad_words(tokenized_word: list, token_sentiment: dict, min_score: int = 0.2)-> tuple:\n",
    "    if min_score>1 or min_score<-1:\n",
    "        min_score = 0.2\n",
    "\n",
    "    good_words_count = 0\n",
    "    total_words = len(tokenized_word)\n",
    "\n",
    "    for token_word in tokenized_word:\n",
    "        sentiment = token_sentiment.get(token_word)\n",
    "        if sentiment>min_score:\n",
    "            good_words_count += 1\n",
    "\n",
    "    return good_words_count, total_words-good_words_count\n",
    "\n",
    "\n",
    "def average_score_sentiment(tokenized_word: list, token_sentiment: dict):\n",
    "    average = 0\n",
    "    for token_word in tokenized_word:\n",
    "        average += token_sentiment.get(token_word)\n",
    "    \n",
    "    return average/(len(tokenized_word))\n",
    "\n",
    "def extend_word_features(X: np.ndarray, token_sentiment: dict) -> np.ndarray:\n",
    "    extended_samples = []\n",
    "    \n",
    "    for sample in X:\n",
    "        tokenized_word = sample\n",
    "        \n",
    "        good_words_count, bad_words_count = count_good_and_bad_words(tokenized_word, token_sentiment)\n",
    "        \n",
    "        avg_score = average_score_sentiment(tokenized_word, token_sentiment)\n",
    "        \n",
    "        # Extending the sample with the new features\n",
    "        extended_sample = [tokenized_word, [good_words_count, bad_words_count, avg_score]]\n",
    "        \n",
    "        extended_samples.append(extended_sample)\n",
    "    \n",
    "    return np.array(extended_samples, dtype=object)\n",
    "\n",
    "\n"
   ]
  },
  {
   "cell_type": "code",
   "execution_count": 10,
   "metadata": {},
   "outputs": [],
   "source": [
    "token_sentiment = estimate_sentiment_per_word(reverse_word_index, analyzer)"
   ]
  },
  {
   "cell_type": "code",
   "execution_count": 18,
   "metadata": {},
   "outputs": [],
   "source": [
    "X_train, X_test, y_train, y_test = train_test_split(X, y, test_size=0.2, random_state=42)"
   ]
  },
  {
   "cell_type": "code",
   "execution_count": 23,
   "metadata": {},
   "outputs": [],
   "source": [
    "\n",
    "X_train, X_test, y_train, y_test = train_test_split(X, y, test_size=0.2, random_state=42)\n",
    "X_train = extend_word_features(X_train, token_sentiment)\n",
    "X_test = extend_word_features(X_test, token_sentiment)\n",
    "\n",
    "# For padding\n",
    "X_train_sequences = sequence.pad_sequences(np.array([sample[0] for sample in X_train], dtype=object), maxlen=80)\n",
    "X_test_sequences = sequence.pad_sequences(np.array([sample[0] for sample in X_test], dtype=object), maxlen=80)\n",
    "\n",
    "# For feeding to the model\n",
    "X_train_new_features = np.array([sample[1] for sample in X_train])\n",
    "X_test_new_features = np.array([sample[1] for sample in X_test])\n",
    "\n",
    "\n"
   ]
  },
  {
   "cell_type": "code",
   "execution_count": 26,
   "metadata": {},
   "outputs": [],
   "source": [
    "\n",
    "sequence_input = Input(shape=(80,), dtype='int32', name='sequence_input') \n",
    "scalar_input = Input(shape=(3,), dtype='float32', name='scalar_input')  \n",
    "\n",
    "\n",
    "embedded_sequences = Embedding(input_dim=50000, output_dim=128)(sequence_input)\n",
    "lstm_out = LSTM(128, dropout=0.2, recurrent_dropout=0.2)(embedded_sequences)\n",
    "\n",
    "\n",
    "dense_out = Dense(32, activation='relu')(scalar_input)\n",
    "\n",
    "\n",
    "concatenated = Concatenate()([lstm_out, dense_out])\n",
    "\n",
    "\n",
    "output = Dense(1, activation='sigmoid')(concatenated)\n",
    "\n",
    "\n",
    "modelo = Model(inputs=[sequence_input, scalar_input], outputs=output)"
   ]
  },
  {
   "cell_type": "code",
   "execution_count": 27,
   "metadata": {},
   "outputs": [],
   "source": [
    "modelo.compile(loss='binary_crossentropy',\n",
    "              optimizer='adam',\n",
    "              metrics=['accuracy'])"
   ]
  },
  {
   "cell_type": "code",
   "execution_count": 29,
   "metadata": {},
   "outputs": [
    {
     "name": "stdout",
     "output_type": "stream",
     "text": [
      "Epoch 1/10\n",
      "1000/1000 [==============================] - 180s 180ms/step - loss: 0.0117 - accuracy: 0.9964 - val_loss: 1.2125 - val_accuracy: 0.8185\n",
      "Epoch 2/10\n",
      "1000/1000 [==============================] - 176s 176ms/step - loss: 0.0116 - accuracy: 0.9964 - val_loss: 1.4854 - val_accuracy: 0.8176\n",
      "Epoch 3/10\n",
      "1000/1000 [==============================] - 175s 175ms/step - loss: 0.0085 - accuracy: 0.9973 - val_loss: 1.3061 - val_accuracy: 0.8195\n",
      "Epoch 4/10\n",
      "1000/1000 [==============================] - 175s 175ms/step - loss: 0.0056 - accuracy: 0.9985 - val_loss: 1.4853 - val_accuracy: 0.8120\n",
      "Epoch 5/10\n",
      "1000/1000 [==============================] - 172s 173ms/step - loss: 0.0066 - accuracy: 0.9982 - val_loss: 1.4162 - val_accuracy: 0.8158\n",
      "Epoch 6/10\n",
      "1000/1000 [==============================] - 171s 171ms/step - loss: 0.0038 - accuracy: 0.9991 - val_loss: 1.5101 - val_accuracy: 0.8145\n",
      "Epoch 7/10\n",
      "1000/1000 [==============================] - 171s 171ms/step - loss: 0.0027 - accuracy: 0.9992 - val_loss: 1.4624 - val_accuracy: 0.8105\n",
      "Epoch 8/10\n",
      "1000/1000 [==============================] - 173s 173ms/step - loss: 0.0028 - accuracy: 0.9992 - val_loss: 1.8458 - val_accuracy: 0.8002\n",
      "Epoch 9/10\n",
      "1000/1000 [==============================] - 177s 177ms/step - loss: 0.0012 - accuracy: 0.9997 - val_loss: 1.8858 - val_accuracy: 0.8104\n",
      "Epoch 10/10\n",
      "1000/1000 [==============================] - 175s 175ms/step - loss: 0.0023 - accuracy: 0.9992 - val_loss: 1.7366 - val_accuracy: 0.8108\n"
     ]
    }
   ],
   "source": [
    "history = modelo.fit([X_train_sequences, X_train_new_features], y_train, validation_split=0.2, epochs=10, batch_size=32)\n"
   ]
  },
  {
   "cell_type": "code",
   "execution_count": 32,
   "metadata": {},
   "outputs": [
    {
     "data": {
      "image/png": "[encoded data removed]",
      "text/plain": [
       "<Figure size 1000x600 with 1 Axes>"
      ]
     },
     "metadata": {},
     "output_type": "display_data"
    }
   ],
   "source": [
    "plt.figure(figsize=(10, 6))\n",
    "plt.plot(history.history['accuracy'], label='Training Accuracy')\n",
    "plt.plot(history.history['val_accuracy'], label='Validation Accuracy')\n",
    "plt.title('Training and Validation Accuracy over Epochs')\n",
    "plt.xlabel('Epochs')\n",
    "plt.ylabel('Accuracy')\n",
    "plt.legend()\n",
    "plt.show()"
   ]
  },
  {
   "cell_type": "code",
   "execution_count": 34,
   "metadata": {},
   "outputs": [
    {
     "name": "stdout",
     "output_type": "stream",
     "text": [
      "313/313 - 7s - loss: 1.7444 - accuracy: 0.8149 - 7s/epoch - 22ms/step\n",
      "Pérdida de la Prueba: 1.7443960905075073\n",
      "Exactitud de la Prueba (Test accuracy): 0.8148999810218811\n"
     ]
    }
   ],
   "source": [
    "perdida, exactitud = modelo.evaluate([X_test_sequences, X_test_new_features], y_test,\n",
    "                                     batch_size=32, verbose=2)\n",
    "print('Pérdida de la Prueba:', perdida)\n",
    "print('Exactitud de la Prueba (Test accuracy):', exactitud)\n"
   ]
  }
 ],
 "metadata": {
  "kernelspec": {
   "display_name": "Python 3",
   "language": "python",
   "name": "python3"
  },
  "language_info": {
   "codemirror_mode": {
    "name": "ipython",
    "version": 3
   },
   "file_extension": ".py",
   "mimetype": "text/x-python",
   "name": "python",
   "nbconvert_exporter": "python",
   "pygments_lexer": "ipython3",
   "version": "3.11.3"
  },
  "orig_nbformat": 4
 },
 "nbformat": 4,
 "nbformat_minor": 2
}
